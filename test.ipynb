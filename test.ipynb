{
 "cells": [
  {
   "cell_type": "code",
   "execution_count": 5,
   "metadata": {},
   "outputs": [],
   "source": [
    "import os\n",
    "os.environ[\"HOME\"] = \"C:\\\\Users\\\\ethan\""
   ]
  },
  {
   "cell_type": "code",
   "execution_count": 6,
   "metadata": {},
   "outputs": [],
   "source": [
    "import opennre"
   ]
  },
  {
   "cell_type": "code",
   "execution_count": 12,
   "metadata": {},
   "outputs": [
    {
     "ename": "FileNotFoundError",
     "evalue": "[Errno 2] No such file or directory: 'C:\\\\Users\\\\ethan\\\\.opennre\\\\benchmark/tacred/tacred_rel2id.json'",
     "output_type": "error",
     "traceback": [
      "\u001b[1;31m---------------------------------------------------------------------------\u001b[0m",
      "\u001b[1;31mFileNotFoundError\u001b[0m                         Traceback (most recent call last)",
      "\u001b[1;32m~\\AppData\\Local\\Temp/ipykernel_43064/453647585.py\u001b[0m in \u001b[0;36m<module>\u001b[1;34m\u001b[0m\n\u001b[1;32m----> 1\u001b[1;33m \u001b[0mmodel\u001b[0m \u001b[1;33m=\u001b[0m \u001b[0mopennre\u001b[0m\u001b[1;33m.\u001b[0m\u001b[0mget_model\u001b[0m\u001b[1;33m(\u001b[0m\u001b[1;34m'tacred_bert_softmax'\u001b[0m\u001b[1;33m)\u001b[0m\u001b[1;33m\u001b[0m\u001b[1;33m\u001b[0m\u001b[0m\n\u001b[0m",
      "\u001b[1;32mF:\\conda\\envs\\geopandas\\lib\\site-packages\\opennre\\pretrain.py\u001b[0m in \u001b[0;36mget_model\u001b[1;34m(model_name, root_path)\u001b[0m\n\u001b[0;32m    165\u001b[0m         \u001b[0mdownload\u001b[0m\u001b[1;33m(\u001b[0m\u001b[1;34m'bert_base_uncased'\u001b[0m\u001b[1;33m,\u001b[0m \u001b[0mroot_path\u001b[0m\u001b[1;33m=\u001b[0m\u001b[0mroot_path\u001b[0m\u001b[1;33m)\u001b[0m\u001b[1;33m\u001b[0m\u001b[1;33m\u001b[0m\u001b[0m\n\u001b[0;32m    166\u001b[0m         \u001b[0mdownload\u001b[0m\u001b[1;33m(\u001b[0m\u001b[1;34m'tacred'\u001b[0m\u001b[1;33m,\u001b[0m \u001b[0mroot_path\u001b[0m\u001b[1;33m=\u001b[0m\u001b[0mroot_path\u001b[0m\u001b[1;33m)\u001b[0m\u001b[1;33m\u001b[0m\u001b[1;33m\u001b[0m\u001b[0m\n\u001b[1;32m--> 167\u001b[1;33m         \u001b[0mrel2id\u001b[0m \u001b[1;33m=\u001b[0m \u001b[0mjson\u001b[0m\u001b[1;33m.\u001b[0m\u001b[0mload\u001b[0m\u001b[1;33m(\u001b[0m\u001b[0mopen\u001b[0m\u001b[1;33m(\u001b[0m\u001b[0mos\u001b[0m\u001b[1;33m.\u001b[0m\u001b[0mpath\u001b[0m\u001b[1;33m.\u001b[0m\u001b[0mjoin\u001b[0m\u001b[1;33m(\u001b[0m\u001b[0mroot_path\u001b[0m\u001b[1;33m,\u001b[0m \u001b[1;34m'benchmark/tacred/tacred_rel2id.json'\u001b[0m\u001b[1;33m)\u001b[0m\u001b[1;33m)\u001b[0m\u001b[1;33m)\u001b[0m\u001b[1;33m\u001b[0m\u001b[1;33m\u001b[0m\u001b[0m\n\u001b[0m\u001b[0;32m    168\u001b[0m         \u001b[1;32mif\u001b[0m \u001b[1;34m'entity'\u001b[0m \u001b[1;32min\u001b[0m \u001b[0mmodel_name\u001b[0m\u001b[1;33m:\u001b[0m\u001b[1;33m\u001b[0m\u001b[1;33m\u001b[0m\u001b[0m\n\u001b[0;32m    169\u001b[0m             sentence_encoder = encoder.BERTEntityEncoder(\n",
      "\u001b[1;31mFileNotFoundError\u001b[0m: [Errno 2] No such file or directory: 'C:\\\\Users\\\\ethan\\\\.opennre\\\\benchmark/tacred/tacred_rel2id.json'"
     ]
    }
   ],
   "source": [
    "model = opennre.get_model('tacred_bertentity_softmax')"
   ]
  },
  {
   "cell_type": "code",
   "execution_count": 13,
   "metadata": {},
   "outputs": [],
   "source": [
    "import pickle"
   ]
  },
  {
   "cell_type": "code",
   "execution_count": 16,
   "metadata": {},
   "outputs": [],
   "source": [
    "with open('./data/ie/train.pickle', 'rb') as f:\n",
    "\ttrain = pickle.load(f)"
   ]
  },
  {
   "cell_type": "code",
   "execution_count": 18,
   "metadata": {},
   "outputs": [],
   "source": [
    "flat = [x for sublist in train for x in sublist]"
   ]
  },
  {
   "cell_type": "code",
   "execution_count": 22,
   "metadata": {},
   "outputs": [],
   "source": [
    "labels = set([x['label'] for x in flat])"
   ]
  },
  {
   "cell_type": "code",
   "execution_count": 23,
   "metadata": {},
   "outputs": [
    {
     "data": {
      "text/plain": [
       "33"
      ]
     },
     "execution_count": 23,
     "metadata": {},
     "output_type": "execute_result"
    }
   ],
   "source": [
    "len(labels)"
   ]
  },
  {
   "cell_type": "code",
   "execution_count": 27,
   "metadata": {},
   "outputs": [],
   "source": [
    "rel2id = {label: count for count, label in enumerate(labels)}"
   ]
  },
  {
   "cell_type": "code",
   "execution_count": 28,
   "metadata": {},
   "outputs": [],
   "source": [
    "import json"
   ]
  },
  {
   "cell_type": "code",
   "execution_count": 29,
   "metadata": {},
   "outputs": [],
   "source": [
    "with open('./data/ie/rotowire_rel2id.json', 'w+') as f:\n",
    "\tjson.dump(rel2id, f)"
   ]
  },
  {
   "cell_type": "code",
   "execution_count": 14,
   "metadata": {},
   "outputs": [],
   "source": [
    "with open('./data/ie/test.pickle', 'rb') as f:\n",
    "\ttest = pickle.load(f)"
   ]
  },
  {
   "cell_type": "code",
   "execution_count": 30,
   "metadata": {},
   "outputs": [
    {
     "data": {
      "text/plain": [
       "[[{'text': 'The host Toronto Raptors defeated the Philadelphia 76ers , 122 - 95 , at Air Canada Center on Monday .',\n",
       "   'spans': [{'start': 2, 'end': 4, 'label': 'Toronto Raptors'},\n",
       "    {'start': 9, 'end': 10, 'label': 122}],\n",
       "   'label': 'TEAM-PTS'},\n",
       "  {'text': 'The host Toronto Raptors defeated the Philadelphia 76ers , 122 - 95 , at Air Canada Center on Monday .',\n",
       "   'spans': [{'start': 2, 'end': 4, 'label': 'Toronto Raptors'},\n",
       "    {'start': 11, 'end': 12, 'label': 95}],\n",
       "   'label': 'NONE'},\n",
       "  {'text': 'The host Toronto Raptors defeated the Philadelphia 76ers , 122 - 95 , at Air Canada Center on Monday .',\n",
       "   'spans': [{'start': 6, 'end': 8, 'label': 'Philadelphia 76ers'},\n",
       "    {'start': 9, 'end': 10, 'label': 122}],\n",
       "   'label': 'NONE'},\n",
       "  {'text': 'The host Toronto Raptors defeated the Philadelphia 76ers , 122 - 95 , at Air Canada Center on Monday .',\n",
       "   'spans': [{'start': 6, 'end': 8, 'label': 'Philadelphia 76ers'},\n",
       "    {'start': 11, 'end': 12, 'label': 95}],\n",
       "   'label': 'TEAM-PTS'}]]"
      ]
     },
     "execution_count": 30,
     "metadata": {},
     "output_type": "execute_result"
    }
   ],
   "source": [
    "test[:1]"
   ]
  },
  {
   "cell_type": "code",
   "execution_count": 34,
   "metadata": {},
   "outputs": [],
   "source": [
    "with open('bruh.txt', 'w+') as f:\n",
    "\tf.writelines([json.dumps(x) + '\\n' for x in flat[:10]])"
   ]
  },
  {
   "cell_type": "code",
   "execution_count": 1,
   "metadata": {},
   "outputs": [],
   "source": [
    "from nltk import word_tokenize"
   ]
  },
  {
   "cell_type": "code",
   "execution_count": 3,
   "metadata": {},
   "outputs": [
    {
     "data": {
      "text/plain": [
       "['breuaohsroc', 'aoehusrcahuoe']"
      ]
     },
     "execution_count": 3,
     "metadata": {},
     "output_type": "execute_result"
    }
   ],
   "source": [
    "word_tokenize('breuaohsroc aoehusrcahuoe')"
   ]
  },
  {
   "cell_type": "code",
   "execution_count": 6,
   "metadata": {},
   "outputs": [
    {
     "data": {
      "text/plain": [
       "\"The Toronto Raptors ( 17-7 ) defeated the Milwaukee Bucks ( 11-12 ) 122-100 on Wednesday at the Air Canada Centre in Toronto . The Raptors got off to a hot start in this one , out-scoring the Bucks 33-23 in the first quarter and 36-18 in the second quarter . They were able to coast to a comfortable lead for the rest of the game , as the Bucks were n't able to keep up with the Raptors ' high-powered offense . The Bucks were led by Giannis Antetokounmpo , who tallied 30 points ( 13-23 FG , 0-3 3Pt , 4-6 FT ) , nine rebounds , five assists and three steals in 39 minutes . Jabari Parker followed up with 27 points of his own , going 11-for-17 from the field and 2-of-3 from the three-point line to score 27 points , while also adding three rebounds , two assists and one steal in 35 minutes . The only other player to score in double digits for the Bucks was Malcolm Brogdon , who finished with 4 points\""
      ]
     },
     "execution_count": 6,
     "metadata": {},
     "output_type": "execute_result"
    }
   ],
   "source": [
    "' '.join(word_tokenize(\"The Toronto Raptors ( 17 - 7 ) defeated the Milwaukee Bucks ( 11 - 12 ) 122 - 100 on Wednesday at the Air Canada Centre in Toronto. The Raptors got off to a hot start in this one, out-scoring the Bucks 33-23 in the first quarter and 36-18 in the second quarter. They were able to coast to a comfortable lead for the rest of the game, as the Bucks weren't able to keep up with the Raptors' high-powered offense. The Bucks were led by Giannis Antetokounmpo, who tallied 30 points ( 13-23 FG, 0-3 3Pt, 4-6 FT ), nine rebounds, five assists and three steals in 39 minutes. Jabari Parker followed up with 27 points of his own, going 11-for-17 from the field and 2-of-3 from the three-point line to score 27 points, while also adding three rebounds, two assists and one steal in 35 minutes. The only other player to score in double digits for the Bucks was Malcolm Brogdon, who finished with 4 points\"))"
   ]
  }
 ],
 "metadata": {
  "interpreter": {
   "hash": "3387528f949e08a7465409a492fe128ebdb03217a22eb98a1ae9d56d862b3753"
  },
  "kernelspec": {
   "display_name": "Python 3.9.6 64-bit ('geopandas': conda)",
   "name": "python3"
  },
  "language_info": {
   "codemirror_mode": {
    "name": "ipython",
    "version": 3
   },
   "file_extension": ".py",
   "mimetype": "text/x-python",
   "name": "python",
   "nbconvert_exporter": "python",
   "pygments_lexer": "ipython3",
   "version": "3.9.6"
  },
  "orig_nbformat": 4
 },
 "nbformat": 4,
 "nbformat_minor": 2
}
