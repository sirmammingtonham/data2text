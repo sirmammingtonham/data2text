{
 "cells": [
  {
   "cell_type": "code",
   "execution_count": 2,
   "metadata": {},
   "outputs": [],
   "source": [
    " import json, os"
   ]
  },
  {
   "cell_type": "code",
   "execution_count": 17,
   "metadata": {},
   "outputs": [],
   "source": [
    "with open(os.path.join(\"./data/rotowire\", \"test.json\"), \"r\", encoding=\"utf-8\") as f:\n",
    "    testdata = json.load(f)"
   ]
  },
  {
   "cell_type": "code",
   "execution_count": 12,
   "metadata": {},
   "outputs": [],
   "source": [
    "with open('./gens/bart_test_tuples.txt', 'r') as f:\n",
    "    data = [json.loads(line) for line in f.readlines()]"
   ]
  },
  {
   "cell_type": "code",
   "execution_count": 28,
   "metadata": {},
   "outputs": [
    {
     "name": "stdout",
     "output_type": "stream",
     "text": [
      "['The', 'Atlanta', 'Hawks', '(', '46', '-', '12', ')', 'defeated', 'the', 'Orlando', 'Magic', '(', '19', '-', '41', ')', '95', '-', '88', 'on', 'Wednesday', 'at', 'Philips', 'Arena', 'in', 'Atlanta', '.']\n",
      "0\n"
     ]
    }
   ],
   "source": [
    "total_fixed = 0\n",
    "\n",
    "for idx, tuple_list in enumerate(data):\n",
    "    test_json = testdata[idx]\n",
    "    sent = tuple_list[0]['token'] # sentence of tuple\n",
    "    for tuple in tuple_list:\n",
    "        h_name = tuple['h']['name']\n",
    "        t = tuple['t']['name']\n",
    "        t_pos = tuple['t']['pos'][0]\n",
    "        rel = tuple['relation']\n",
    "\n",
    "        if rel == 'NA':\n",
    "            continue\n",
    "\n",
    "        if h_name in [f\"{test_json['home_city']} {test_json['home_name']}\", test_json['home_city'], test_json['home_name']]:\n",
    "            correct = test_json['home_line'][rel]\n",
    "        elif h_name in [f\"{test_json['vis_city']} {test_json['vis_name']}\", test_json['vis_city'], test_json['vis_name']]:\n",
    "            correct = test_json['vis_line'][rel]\n",
    "        else:\n",
    "            pid = list(test_json['box_score']['PLAYER_NAME'].keys())[list(test_json['box_score']['PLAYER_NAME'].values()).index(h_name)]\n",
    "            correct = test_json['box_score'][rel][pid]\n",
    "        \n",
    "        if str(t) != correct:\n",
    "            total_fixed += 1\n",
    "            print(t, correct)\n",
    "\n",
    "        sent[t_pos] = correct\n",
    "    print(sent)\n",
    "    print(total_fixed)"
   ]
  },
  {
   "cell_type": "code",
   "execution_count": null,
   "metadata": {},
   "outputs": [],
   "source": []
  }
 ],
 "metadata": {
  "interpreter": {
   "hash": "8e50b2d43510c74d6448c43304279df5867cbb5cc88faee0f54d3df1be27e804"
  },
  "kernelspec": {
   "display_name": "Python 3.7.9 64-bit (windows store)",
   "language": "python",
   "name": "python3"
  },
  "language_info": {
   "codemirror_mode": {
    "name": "ipython",
    "version": 3
   },
   "file_extension": ".py",
   "mimetype": "text/x-python",
   "name": "python",
   "nbconvert_exporter": "python",
   "pygments_lexer": "ipython3",
   "version": "3.8.11"
  },
  "orig_nbformat": 4
 },
 "nbformat": 4,
 "nbformat_minor": 2
}
